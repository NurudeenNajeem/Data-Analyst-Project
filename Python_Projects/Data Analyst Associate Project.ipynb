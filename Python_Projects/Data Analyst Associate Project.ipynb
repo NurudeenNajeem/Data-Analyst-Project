{
 "cells": [
  {
   "cell_type": "markdown",
   "id": "ea3e2add",
   "metadata": {},
   "source": [
    "#  INTRODUCTION"
   ]
  },
  {
   "cell_type": "markdown",
   "id": "c9cdc570",
   "metadata": {},
   "source": [
    "As part of my Datacamp Associate Analyst Certification, I used python to analyst project on a Brazillian Fast Food company called VIVENDO. Vivendo is a fast food chain in Brazil with over 200 outlets. Customers often claim compensation from the company for food poisoning. The legal team processes these claims. The legal team has offices in four locations."
   ]
  },
  {
   "cell_type": "markdown",
   "id": "66f8e1c4",
   "metadata": {},
   "source": [
    "# BUSINESS PROBLEM STATEMENT"
   ]
  },
  {
   "cell_type": "markdown",
   "id": "04c5c082",
   "metadata": {},
   "source": [
    "The head of the legal department wants a report on how each location differs in the time it takes to close claims."
   ]
  },
  {
   "cell_type": "markdown",
   "id": "9c068c99",
   "metadata": {},
   "source": [
    "# TOOL USED FOR ANALYSIS"
   ]
  },
  {
   "cell_type": "markdown",
   "id": "4c5ef8c5",
   "metadata": {},
   "source": [
    "Python.\n",
    "I used Python in order deliver results with the best insights and recommendations for the head of the legal department and other stakeholders, the Data analysis process will take the steps below.\n",
    "I took the following steps in order to clean data and validate the dataset\n",
    "Data Exploration & Validation\n",
    "DATA Wrangling\n",
    "DATA Analysis & Visualization"
   ]
  },
  {
   "cell_type": "markdown",
   "id": "ffa006d7",
   "metadata": {},
   "source": [
    "# # DATA EXPLORATION & VALIDATION"
   ]
  },
  {
   "cell_type": "raw",
   "id": "d3752fa8",
   "metadata": {},
   "source": [
    "I explored the dataset with python to get a complete overview of the dataset and access the quality issues needed for cleaning. This is imperative because the quality of this analysis hinges on the integrity and validity of our data.\n",
    "\n",
    "The dataset contains 1 row for each claim. The column's descriptions are highlighted below, with what is expected to validate each column\n",
    "\n",
    "1. Claim_id column: Nominal data. The unique identifier of the claim. Missing values are not possible due to the database structure.\n",
    "2. Time_to_close column: Discrete data. The number of days to close the claim. Any positive value. Replace missing values with the overall median time to close.\n",
    "3. Claim_amount column: Continuous data. The initial claim requested in the currency of Brazil rounded to 2 decimal places. Replace missing values with the overall median claim amount.\n",
    "4. Amount_paid column: Continuous data. Final amount paid. In the currency of Brazil. Rounded to 2 decimal places. Replace missing values with the overall median amount paid.\n",
    "5. Location column: Nominal data. Location of the claim, one of “RECIFE”, “SAO LUIS”, “FORTALEZA”, or “NATAL”. Remove missing values.\n",
    "6. Individuals_on_claim column: Discrete data. Number of individuals on this claim. Minimum 1 person. Replace the missing value with 0.\n",
    "7. Linked_cases column: Nominal data. Whether this claim is linked to other cases. Either TRUE or FALSE. Replace missing values with FALSE.\n",
    "8. Cause Column: Nominal data. Cause of the food poisoning. One of “vegetable”, “meat” or “unknown”. Replace missing values with ‘unknown’.\n"
   ]
  },
  {
   "cell_type": "code",
   "execution_count": 50,
   "id": "da298d7c",
   "metadata": {},
   "outputs": [],
   "source": [
    "import matplotlib.pyplot as plt\n",
    "import pandas as pd\n",
    "import numpy as np\n",
    "import seaborn as sn\n",
    "sn.set_style('darkgrid')\n",
    "import warnings\n",
    "warnings.filterwarnings('ignore')"
   ]
  },
  {
   "cell_type": "code",
   "execution_count": 2,
   "id": "150ef735",
   "metadata": {},
   "outputs": [
    {
     "data": {
      "text/html": [
       "<div>\n",
       "<style scoped>\n",
       "    .dataframe tbody tr th:only-of-type {\n",
       "        vertical-align: middle;\n",
       "    }\n",
       "\n",
       "    .dataframe tbody tr th {\n",
       "        vertical-align: top;\n",
       "    }\n",
       "\n",
       "    .dataframe thead th {\n",
       "        text-align: right;\n",
       "    }\n",
       "</style>\n",
       "<table border=\"1\" class=\"dataframe\">\n",
       "  <thead>\n",
       "    <tr style=\"text-align: right;\">\n",
       "      <th></th>\n",
       "      <th>claim_id</th>\n",
       "      <th>time_to_close</th>\n",
       "      <th>claim_amount</th>\n",
       "      <th>amount_paid</th>\n",
       "      <th>location</th>\n",
       "      <th>individuals_on_claim</th>\n",
       "      <th>linked_cases</th>\n",
       "      <th>cause</th>\n",
       "    </tr>\n",
       "  </thead>\n",
       "  <tbody>\n",
       "    <tr>\n",
       "      <th>0</th>\n",
       "      <td>1</td>\n",
       "      <td>317</td>\n",
       "      <td>R$ 74474.55</td>\n",
       "      <td>51231.37</td>\n",
       "      <td>RECIFE</td>\n",
       "      <td>15</td>\n",
       "      <td>False</td>\n",
       "      <td>unknown</td>\n",
       "    </tr>\n",
       "    <tr>\n",
       "      <th>1</th>\n",
       "      <td>2</td>\n",
       "      <td>195</td>\n",
       "      <td>R$ 52137.83</td>\n",
       "      <td>42111.30</td>\n",
       "      <td>FORTALEZA</td>\n",
       "      <td>12</td>\n",
       "      <td>True</td>\n",
       "      <td>unknown</td>\n",
       "    </tr>\n",
       "    <tr>\n",
       "      <th>2</th>\n",
       "      <td>3</td>\n",
       "      <td>183</td>\n",
       "      <td>R$ 24447.2</td>\n",
       "      <td>23986.30</td>\n",
       "      <td>SAO LUIS</td>\n",
       "      <td>10</td>\n",
       "      <td>True</td>\n",
       "      <td>meat</td>\n",
       "    </tr>\n",
       "    <tr>\n",
       "      <th>3</th>\n",
       "      <td>4</td>\n",
       "      <td>186</td>\n",
       "      <td>R$ 29006.28</td>\n",
       "      <td>27942.72</td>\n",
       "      <td>FORTALEZA</td>\n",
       "      <td>11</td>\n",
       "      <td>False</td>\n",
       "      <td>meat</td>\n",
       "    </tr>\n",
       "    <tr>\n",
       "      <th>4</th>\n",
       "      <td>5</td>\n",
       "      <td>138</td>\n",
       "      <td>R$ 19520.6</td>\n",
       "      <td>16251.06</td>\n",
       "      <td>RECIFE</td>\n",
       "      <td>11</td>\n",
       "      <td>False</td>\n",
       "      <td>vegetable</td>\n",
       "    </tr>\n",
       "  </tbody>\n",
       "</table>\n",
       "</div>"
      ],
      "text/plain": [
       "   claim_id  time_to_close claim_amount  amount_paid   location  \\\n",
       "0         1            317  R$ 74474.55     51231.37     RECIFE   \n",
       "1         2            195  R$ 52137.83     42111.30  FORTALEZA   \n",
       "2         3            183   R$ 24447.2     23986.30   SAO LUIS   \n",
       "3         4            186  R$ 29006.28     27942.72  FORTALEZA   \n",
       "4         5            138   R$ 19520.6     16251.06     RECIFE   \n",
       "\n",
       "   individuals_on_claim linked_cases      cause  \n",
       "0                    15        False    unknown  \n",
       "1                    12         True    unknown  \n",
       "2                    10         True       meat  \n",
       "3                    11        False       meat  \n",
       "4                    11        False  vegetable  "
      ]
     },
     "execution_count": 2,
     "metadata": {},
     "output_type": "execute_result"
    }
   ],
   "source": [
    "df = pd.read_csv(\"food_claims_2212.csv\")\n",
    "df.head()"
   ]
  },
  {
   "cell_type": "code",
   "execution_count": 3,
   "id": "47791be2",
   "metadata": {},
   "outputs": [
    {
     "data": {
      "text/plain": [
       "claim_id                 0\n",
       "time_to_close            0\n",
       "claim_amount             0\n",
       "amount_paid             36\n",
       "location                 0\n",
       "individuals_on_claim     0\n",
       "linked_cases            26\n",
       "cause                    0\n",
       "dtype: int64"
      ]
     },
     "execution_count": 3,
     "metadata": {},
     "output_type": "execute_result"
    }
   ],
   "source": [
    "df.isnull().sum()"
   ]
  },
  {
   "cell_type": "code",
   "execution_count": 4,
   "id": "74cbac40",
   "metadata": {},
   "outputs": [
    {
     "name": "stdout",
     "output_type": "stream",
     "text": [
      "<class 'pandas.core.frame.DataFrame'>\n",
      "RangeIndex: 2000 entries, 0 to 1999\n",
      "Data columns (total 8 columns):\n",
      " #   Column                Non-Null Count  Dtype  \n",
      "---  ------                --------------  -----  \n",
      " 0   claim_id              2000 non-null   int64  \n",
      " 1   time_to_close         2000 non-null   int64  \n",
      " 2   claim_amount          2000 non-null   object \n",
      " 3   amount_paid           1964 non-null   float64\n",
      " 4   location              2000 non-null   object \n",
      " 5   individuals_on_claim  2000 non-null   int64  \n",
      " 6   linked_cases          1974 non-null   object \n",
      " 7   cause                 2000 non-null   object \n",
      "dtypes: float64(1), int64(3), object(4)\n",
      "memory usage: 125.1+ KB\n"
     ]
    }
   ],
   "source": [
    "df.info()"
   ]
  },
  {
   "cell_type": "code",
   "execution_count": 5,
   "id": "13e06a9e",
   "metadata": {},
   "outputs": [
    {
     "data": {
      "text/plain": [
       "(2000, 8)"
      ]
     },
     "execution_count": 5,
     "metadata": {},
     "output_type": "execute_result"
    }
   ],
   "source": [
    "df.shape"
   ]
  },
  {
   "cell_type": "code",
   "execution_count": 7,
   "id": "aaa66d1c",
   "metadata": {},
   "outputs": [
    {
     "data": {
      "text/html": [
       "<div>\n",
       "<style scoped>\n",
       "    .dataframe tbody tr th:only-of-type {\n",
       "        vertical-align: middle;\n",
       "    }\n",
       "\n",
       "    .dataframe tbody tr th {\n",
       "        vertical-align: top;\n",
       "    }\n",
       "\n",
       "    .dataframe thead th {\n",
       "        text-align: right;\n",
       "    }\n",
       "</style>\n",
       "<table border=\"1\" class=\"dataframe\">\n",
       "  <thead>\n",
       "    <tr style=\"text-align: right;\">\n",
       "      <th></th>\n",
       "      <th>count</th>\n",
       "      <th>mean</th>\n",
       "      <th>std</th>\n",
       "      <th>min</th>\n",
       "      <th>25%</th>\n",
       "      <th>50%</th>\n",
       "      <th>75%</th>\n",
       "      <th>max</th>\n",
       "    </tr>\n",
       "  </thead>\n",
       "  <tbody>\n",
       "    <tr>\n",
       "      <th>claim_id</th>\n",
       "      <td>2000.0</td>\n",
       "      <td>1000.500000</td>\n",
       "      <td>577.494589</td>\n",
       "      <td>1.00</td>\n",
       "      <td>500.75</td>\n",
       "      <td>1000.5</td>\n",
       "      <td>1500.25</td>\n",
       "      <td>2000.00</td>\n",
       "    </tr>\n",
       "    <tr>\n",
       "      <th>time_to_close</th>\n",
       "      <td>2000.0</td>\n",
       "      <td>185.568000</td>\n",
       "      <td>49.163390</td>\n",
       "      <td>76.00</td>\n",
       "      <td>158.00</td>\n",
       "      <td>179.0</td>\n",
       "      <td>204.00</td>\n",
       "      <td>518.00</td>\n",
       "    </tr>\n",
       "    <tr>\n",
       "      <th>amount_paid</th>\n",
       "      <td>1964.0</td>\n",
       "      <td>21541.975183</td>\n",
       "      <td>12530.156509</td>\n",
       "      <td>1516.72</td>\n",
       "      <td>10995.95</td>\n",
       "      <td>20105.7</td>\n",
       "      <td>30709.35</td>\n",
       "      <td>52498.75</td>\n",
       "    </tr>\n",
       "    <tr>\n",
       "      <th>individuals_on_claim</th>\n",
       "      <td>2000.0</td>\n",
       "      <td>8.049500</td>\n",
       "      <td>4.087347</td>\n",
       "      <td>1.00</td>\n",
       "      <td>4.00</td>\n",
       "      <td>8.0</td>\n",
       "      <td>12.00</td>\n",
       "      <td>15.00</td>\n",
       "    </tr>\n",
       "  </tbody>\n",
       "</table>\n",
       "</div>"
      ],
      "text/plain": [
       "                       count          mean           std      min       25%  \\\n",
       "claim_id              2000.0   1000.500000    577.494589     1.00    500.75   \n",
       "time_to_close         2000.0    185.568000     49.163390    76.00    158.00   \n",
       "amount_paid           1964.0  21541.975183  12530.156509  1516.72  10995.95   \n",
       "individuals_on_claim  2000.0      8.049500      4.087347     1.00      4.00   \n",
       "\n",
       "                          50%       75%       max  \n",
       "claim_id               1000.5   1500.25   2000.00  \n",
       "time_to_close           179.0    204.00    518.00  \n",
       "amount_paid           20105.7  30709.35  52498.75  \n",
       "individuals_on_claim      8.0     12.00     15.00  "
      ]
     },
     "execution_count": 7,
     "metadata": {},
     "output_type": "execute_result"
    }
   ],
   "source": [
    "df.describe().T"
   ]
  },
  {
   "cell_type": "code",
   "execution_count": 8,
   "id": "ddb10569",
   "metadata": {},
   "outputs": [],
   "source": [
    "#Remove the dollar sign\n",
    "df[\"claim_amount\"]= df[\"claim_amount\"].str.strip(\"R$\")"
   ]
  },
  {
   "cell_type": "code",
   "execution_count": 9,
   "id": "11d554a7",
   "metadata": {},
   "outputs": [
    {
     "data": {
      "text/html": [
       "<div>\n",
       "<style scoped>\n",
       "    .dataframe tbody tr th:only-of-type {\n",
       "        vertical-align: middle;\n",
       "    }\n",
       "\n",
       "    .dataframe tbody tr th {\n",
       "        vertical-align: top;\n",
       "    }\n",
       "\n",
       "    .dataframe thead th {\n",
       "        text-align: right;\n",
       "    }\n",
       "</style>\n",
       "<table border=\"1\" class=\"dataframe\">\n",
       "  <thead>\n",
       "    <tr style=\"text-align: right;\">\n",
       "      <th></th>\n",
       "      <th>count</th>\n",
       "      <th>mean</th>\n",
       "      <th>std</th>\n",
       "      <th>min</th>\n",
       "      <th>25%</th>\n",
       "      <th>50%</th>\n",
       "      <th>75%</th>\n",
       "      <th>max</th>\n",
       "    </tr>\n",
       "  </thead>\n",
       "  <tbody>\n",
       "    <tr>\n",
       "      <th>claim_id</th>\n",
       "      <td>2000.0</td>\n",
       "      <td>1000.500000</td>\n",
       "      <td>577.494589</td>\n",
       "      <td>1.00</td>\n",
       "      <td>500.75</td>\n",
       "      <td>1000.5</td>\n",
       "      <td>1500.25</td>\n",
       "      <td>2000.00</td>\n",
       "    </tr>\n",
       "    <tr>\n",
       "      <th>time_to_close</th>\n",
       "      <td>2000.0</td>\n",
       "      <td>185.568000</td>\n",
       "      <td>49.163390</td>\n",
       "      <td>76.00</td>\n",
       "      <td>158.00</td>\n",
       "      <td>179.0</td>\n",
       "      <td>204.00</td>\n",
       "      <td>518.00</td>\n",
       "    </tr>\n",
       "    <tr>\n",
       "      <th>amount_paid</th>\n",
       "      <td>1964.0</td>\n",
       "      <td>21541.975183</td>\n",
       "      <td>12530.156509</td>\n",
       "      <td>1516.72</td>\n",
       "      <td>10995.95</td>\n",
       "      <td>20105.7</td>\n",
       "      <td>30709.35</td>\n",
       "      <td>52498.75</td>\n",
       "    </tr>\n",
       "    <tr>\n",
       "      <th>individuals_on_claim</th>\n",
       "      <td>2000.0</td>\n",
       "      <td>8.049500</td>\n",
       "      <td>4.087347</td>\n",
       "      <td>1.00</td>\n",
       "      <td>4.00</td>\n",
       "      <td>8.0</td>\n",
       "      <td>12.00</td>\n",
       "      <td>15.00</td>\n",
       "    </tr>\n",
       "  </tbody>\n",
       "</table>\n",
       "</div>"
      ],
      "text/plain": [
       "                       count          mean           std      min       25%  \\\n",
       "claim_id              2000.0   1000.500000    577.494589     1.00    500.75   \n",
       "time_to_close         2000.0    185.568000     49.163390    76.00    158.00   \n",
       "amount_paid           1964.0  21541.975183  12530.156509  1516.72  10995.95   \n",
       "individuals_on_claim  2000.0      8.049500      4.087347     1.00      4.00   \n",
       "\n",
       "                          50%       75%       max  \n",
       "claim_id               1000.5   1500.25   2000.00  \n",
       "time_to_close           179.0    204.00    518.00  \n",
       "amount_paid           20105.7  30709.35  52498.75  \n",
       "individuals_on_claim      8.0     12.00     15.00  "
      ]
     },
     "execution_count": 9,
     "metadata": {},
     "output_type": "execute_result"
    }
   ],
   "source": [
    "df.describe().T"
   ]
  },
  {
   "cell_type": "code",
   "execution_count": 10,
   "id": "9ec58d4c",
   "metadata": {},
   "outputs": [
    {
     "data": {
      "text/html": [
       "<div>\n",
       "<style scoped>\n",
       "    .dataframe tbody tr th:only-of-type {\n",
       "        vertical-align: middle;\n",
       "    }\n",
       "\n",
       "    .dataframe tbody tr th {\n",
       "        vertical-align: top;\n",
       "    }\n",
       "\n",
       "    .dataframe thead th {\n",
       "        text-align: right;\n",
       "    }\n",
       "</style>\n",
       "<table border=\"1\" class=\"dataframe\">\n",
       "  <thead>\n",
       "    <tr style=\"text-align: right;\">\n",
       "      <th></th>\n",
       "      <th>claim_id</th>\n",
       "      <th>time_to_close</th>\n",
       "      <th>claim_amount</th>\n",
       "      <th>amount_paid</th>\n",
       "      <th>location</th>\n",
       "      <th>individuals_on_claim</th>\n",
       "      <th>linked_cases</th>\n",
       "      <th>cause</th>\n",
       "    </tr>\n",
       "  </thead>\n",
       "  <tbody>\n",
       "    <tr>\n",
       "      <th>0</th>\n",
       "      <td>1</td>\n",
       "      <td>317</td>\n",
       "      <td>74474.55</td>\n",
       "      <td>51231.37</td>\n",
       "      <td>RECIFE</td>\n",
       "      <td>15</td>\n",
       "      <td>False</td>\n",
       "      <td>unknown</td>\n",
       "    </tr>\n",
       "    <tr>\n",
       "      <th>1</th>\n",
       "      <td>2</td>\n",
       "      <td>195</td>\n",
       "      <td>52137.83</td>\n",
       "      <td>42111.30</td>\n",
       "      <td>FORTALEZA</td>\n",
       "      <td>12</td>\n",
       "      <td>True</td>\n",
       "      <td>unknown</td>\n",
       "    </tr>\n",
       "    <tr>\n",
       "      <th>2</th>\n",
       "      <td>3</td>\n",
       "      <td>183</td>\n",
       "      <td>24447.20</td>\n",
       "      <td>23986.30</td>\n",
       "      <td>SAO LUIS</td>\n",
       "      <td>10</td>\n",
       "      <td>True</td>\n",
       "      <td>meat</td>\n",
       "    </tr>\n",
       "  </tbody>\n",
       "</table>\n",
       "</div>"
      ],
      "text/plain": [
       "   claim_id  time_to_close  claim_amount  amount_paid   location  \\\n",
       "0         1            317      74474.55     51231.37     RECIFE   \n",
       "1         2            195      52137.83     42111.30  FORTALEZA   \n",
       "2         3            183      24447.20     23986.30   SAO LUIS   \n",
       "\n",
       "   individuals_on_claim linked_cases    cause  \n",
       "0                    15        False  unknown  \n",
       "1                    12         True  unknown  \n",
       "2                    10         True     meat  "
      ]
     },
     "execution_count": 10,
     "metadata": {},
     "output_type": "execute_result"
    }
   ],
   "source": [
    "# I changed claim_amount to float and round it off to 2 decimal places\n",
    "df[\"claim_amount\"]= df[\"claim_amount\"].astype('float')\n",
    "round(df[[\"claim_amount\",\"amount_paid\"]],2)\n",
    "df.head(3)"
   ]
  },
  {
   "cell_type": "code",
   "execution_count": 11,
   "id": "bf413354",
   "metadata": {},
   "outputs": [],
   "source": [
    "#The Claim_id has 2000 distinct and 2000 unique values. There are no missing values\n",
    "df[\"claim_id\"]= df[\"claim_id\"].astype('object')"
   ]
  },
  {
   "cell_type": "code",
   "execution_count": 12,
   "id": "de0ab02d",
   "metadata": {},
   "outputs": [
    {
     "data": {
      "text/plain": [
       "20105.7"
      ]
     },
     "execution_count": 12,
     "metadata": {},
     "output_type": "execute_result"
    }
   ],
   "source": [
    "#amount_paid:the overall median\n",
    "round(df.amount_paid.median(),2)"
   ]
  },
  {
   "cell_type": "code",
   "execution_count": 14,
   "id": "286c2eb9",
   "metadata": {},
   "outputs": [],
   "source": [
    "# Replace missing values with the overall median amount paid i.e 20105.7\n",
    "df.amount_paid.fillna(20105.7,inplace = True)"
   ]
  },
  {
   "cell_type": "code",
   "execution_count": 15,
   "id": "23d8acec",
   "metadata": {},
   "outputs": [],
   "source": [
    "# linked_cases :Replace missing values with FALSE.\n",
    "maps= {False:\"FALSE\",True:\"TRUE\"}\n",
    "df[\"linked_cases\"]= df[\"linked_cases\"].replace(maps)\n",
    "df.linked_cases.fillna(\"FALSE\",inplace = True)"
   ]
  },
  {
   "cell_type": "code",
   "execution_count": 16,
   "id": "d3d2a2bb",
   "metadata": {},
   "outputs": [
    {
     "data": {
      "text/plain": [
       "array(['unknown', 'meat', 'vegetable', ' Meat', 'VEGETABLES'],\n",
       "      dtype=object)"
      ]
     },
     "execution_count": 16,
     "metadata": {},
     "output_type": "execute_result"
    }
   ],
   "source": [
    "#Cause column has three distinct causes. There are no missing values in the cause column\n",
    "# I need to format meat,Meat, vegetable and VEGETABLES\n",
    "df.cause.unique()"
   ]
  },
  {
   "cell_type": "code",
   "execution_count": null,
   "id": "1f312b84",
   "metadata": {},
   "outputs": [],
   "source": [
    "# Remove the empty spaces and format the data\n",
    "df[\"cause\"]= df[\"cause\"].str.strip()\n",
    "df[\"cause\"] = df[\"cause\"].replace({\"VEGETABLES\":\"vegetable\",\"Meat\":\"meat\"})"
   ]
  },
  {
   "cell_type": "code",
   "execution_count": 18,
   "id": "e8ac307e",
   "metadata": {},
   "outputs": [
    {
     "data": {
      "text/plain": [
       "array(['unknown', 'meat', 'vegetable'], dtype=object)"
      ]
     },
     "execution_count": 18,
     "metadata": {},
     "output_type": "execute_result"
    }
   ],
   "source": [
    "df.cause.unique()"
   ]
  },
  {
   "cell_type": "markdown",
   "id": "c9f7d97d",
   "metadata": {},
   "source": [
    "# TASK 1"
   ]
  },
  {
   "cell_type": "code",
   "execution_count": null,
   "id": "f2d149b8",
   "metadata": {},
   "outputs": [],
   "source": [
    "a. State whether the values match the description given in the table above.\n",
    "The  dataset contains 2000 rows and 8 columns . I need to check for missing values and spelling errors in each column. Due to data type error from the claim_amount column, I removed the currency signs from every record in the column and changed the format to floating type .I noticed the cause column contains  spelling errors, as in the case, ‘vegetable’ is written in lower case, while others were written in Upper case as ‘VEGETABLES’. Similarly, I also noticed spelling error ‘meat’ and 'Meat' values.  I changed the 'Meat' to 'meat'.Similarly, I also formatted ‘VEGETABLES’ to 'vegetable' . Finally, the cause column now has 3 distinct values (‘unknown’, ‘meat’, and ‘vegetable’). \n",
    "b. State the number of missing values in the column.\n",
    "amount_paid : There are 36 missing values in the column.\n",
    "linked_cases: There are 26 missing values  \n",
    "The Claim_id has 2000 distinct and 2000 unique values. There are no missing values.\n",
    "claim_amount: I removed the currency signs from every record in the column. There are no missing values.\n",
    "Time_to_close: The days in the time-to-close column has the minimun and maximum numbers are 76 and 516 and all values are non-negative. There are 256 distinct values. There are no missing values.\n",
    "Location: The location column has 4 distinct locations. There are no missing values.\n",
    "Amount_paid : There are 36 missing values from the column. I filled the missing values with the median(20105.7) and round it off to 2 decimal places.\n",
    "Linked_cases: There are 26 missing values In the  column. I filled the missing values with 'FALSE'.\n",
    "Cause column :Has three distinct causes. There are no missing values in the cause column but we have some spelling errors and empty spaces in the column.I need to remove the empty spaces and  replaced any inconsistence values like 'Meat' and 'VEGETABLES' to lower case. The cause column now has 3 distinct values (‘unknown’, ‘meat’, and ‘vegetable’). \n",
    "c. Describe what you did to make values match the description if they did not match .\n",
    "Concerning  the fields’ requirements, each field's values matched the corresponding values.\n"
   ]
  },
  {
   "cell_type": "markdown",
   "id": "32d06758",
   "metadata": {},
   "source": [
    "# TASK 2"
   ]
  },
  {
   "cell_type": "markdown",
   "id": "71932b12",
   "metadata": {},
   "source": [
    "Create a visualization that shows the number of claims in each location."
   ]
  },
  {
   "cell_type": "code",
   "execution_count": 41,
   "id": "3e0ec11e",
   "metadata": {},
   "outputs": [
    {
     "data": {
      "image/png": "[encoded data removed]",
      "text/plain": [
       "<Figure size 720x360 with 1 Axes>"
      ]
     },
     "metadata": {
      "needs_background": "light"
     },
     "output_type": "display_data"
    }
   ],
   "source": [
    "df.location.value_counts().sort_values().plot(kind = \"barh\" , color = \"#025\", figsize=(10,5))\n",
    "plt.xlabel(\"LOCATION\")\n",
    "plt.ylabel(\"Number of individuals claims\")\n",
    "plt.title(\"TOTAL NUMBERS OF CLAIMS BY LOCATION\");"
   ]
  },
  {
   "cell_type": "code",
   "execution_count": 49,
   "id": "a65ca238",
   "metadata": {},
   "outputs": [
    {
     "data": {
      "image/png": "[encoded data removed]",
      "text/plain": [
       "<Figure size 720x360 with 1 Axes>"
      ]
     },
     "metadata": {
      "needs_background": "light"
     },
     "output_type": "display_data"
    }
   ],
   "source": [
    "df.location.value_counts().sort_values().plot(kind = \"bar\" , color = \"#213147\", figsize=(10,5))\n",
    "plt.xlabel(\"LOCATION\")\n",
    "plt.ylabel(\"Number of individuals claims\")\n",
    "plt.title(\"TOTAL NUMBERS OF CLAIMS BY LOCATION\");"
   ]
  },
  {
   "cell_type": "code",
   "execution_count": null,
   "id": "e132c93b",
   "metadata": {},
   "outputs": [],
   "source": [
    "diabetes prediction/Diabetes prediction using logistic regression.ipynb"
   ]
  },
  {
   "cell_type": "code",
   "execution_count": 47,
   "id": "dcb55ac4",
   "metadata": {},
   "outputs": [
    {
     "data": {
      "image/png": "[encoded data removed]",
      "text/plain": [
       "<Figure size 720x360 with 1 Axes>"
      ]
     },
     "metadata": {},
     "output_type": "display_data"
    }
   ],
   "source": [
    "df.location.value_counts().plot(kind = \"pie\" ,  figsize=(10,5));\n"
   ]
  },
  {
   "cell_type": "code",
   "execution_count": 48,
   "id": "ece751fc",
   "metadata": {},
   "outputs": [],
   "source": [
    "# df.location.value_counts().nlargest().plot(kind = \"bar\" , color = \"#025\", figsize=(10,5))\n",
    "# plt.xlabel(\"LOCATION\")\n",
    "# plt.ylabel(\"Number of individuals claims\")\n",
    "# plt.title(\"TOTAL NUMBERS OF CLAIMS BY LOCATION\");"
   ]
  },
  {
   "cell_type": "markdown",
   "id": "caa5e143",
   "metadata": {},
   "source": [
    "a. State which category of the variable location has the most observations\n",
    "The location with the highest claims is RECIFE with 885 claims.\n",
    "SAO LUIS has a record of 517 claims.\n",
    "FORTALEZA  has 311 claims.\n",
    "NATAL has the lowest number of claims of 286 claims.\n",
    "b. Explain whether the observations are balanced across categories of the\n",
    "variable location.\n",
    "From the above above,it is obvious that observations are imbalanced across categories of the variable location when considering the total number of claims in each location. The total number of claims for each location indicates the total amount of claims made in each location and shows that there is a discrepancy in the claims for each location.\n",
    "Mathematically ,\n",
    "RECIFE       0.4425\n",
    "SAO LUIS     0.2585\n",
    "FORTALEZA    0.1555\n",
    "NATAL        0.1435\n",
    "The percentage of total claims from RACIFE is 44%\n",
    "The percentage of total claims from SAO LUIS is 26%\n",
    "The percentage of total claims from FORTALEZA is 16%\n",
    "The percentage of total claims from NATA is 14%"
   ]
  },
  {
   "cell_type": "markdown",
   "id": "5a0735c4",
   "metadata": {},
   "source": [
    "# ## Task 3"
   ]
  },
  {
   "cell_type": "markdown",
   "id": "a4e53515",
   "metadata": {},
   "source": [
    "Describe the distribution of time to close for all claims. Your answer must include a\n",
    "visualization that shows the distribution."
   ]
  },
  {
   "cell_type": "code",
   "execution_count": 31,
   "id": "49bba029",
   "metadata": {},
   "outputs": [
    {
     "data": {
      "image/png": "[encoded data removed]",
      "text/plain": [
       "<Figure size 720x360 with 1 Axes>"
      ]
     },
     "metadata": {
      "needs_background": "light"
     },
     "output_type": "display_data"
    }
   ],
   "source": [
    "plt.figure(figsize=(10,5))\n",
    "sn.histplot(data=df, x=\"time_to_close\",kde = True,bins=20);"
   ]
  },
  {
   "cell_type": "markdown",
   "id": "6cccbcb1",
   "metadata": {},
   "source": [
    "In the histogram above, you can see that it is a unimodal distribution because it has only one peak near 200. Most values in the dataset will be close to 200, and values further away are rarer. The distribution is roughly symmetric and the values fall between approximately 100 and 400."
   ]
  },
  {
   "cell_type": "markdown",
   "id": "a39aef40",
   "metadata": {},
   "source": [
    "## Task 4\n"
   ]
  },
  {
   "cell_type": "markdown",
   "id": "7c692dcf",
   "metadata": {},
   "source": [
    "Describe the relationship between time to close and location. Your answer must\n",
    "include a visualization to demonstrate the relationship."
   ]
  },
  {
   "cell_type": "code",
   "execution_count": 33,
   "id": "895e41da",
   "metadata": {},
   "outputs": [
    {
     "data": {
      "image/png": "[encoded data removed]",
      "text/plain": [
       "<Figure size 360x360 with 1 Axes>"
      ]
     },
     "metadata": {
      "needs_background": "light"
     },
     "output_type": "display_data"
    }
   ],
   "source": [
    "sn.catplot(x=\"location\",y=\"time_to_close\", data = df,kind=\"box\");"
   ]
  },
  {
   "cell_type": "markdown",
   "id": "5d94b67a",
   "metadata": {},
   "source": [
    "From the above visualization, I can observe that we a lot numbers customers in Sao Luis, followed by Fortaleza and least is in Natal.The number of days to close the claim in Sao Luis and Fortaleza is very high. The team has to focus more on Sao Luis location and Fortaleza location to investigate more on the customers claims and make the necessary adjustments."
   ]
  }
 ],
 "metadata": {
  "kernelspec": {
   "display_name": "Python 3 (ipykernel)",
   "language": "python",
   "name": "python3"
  },
  "language_info": {
   "codemirror_mode": {
    "name": "ipython",
    "version": 3
   },
   "file_extension": ".py",
   "mimetype": "text/x-python",
   "name": "python",
   "nbconvert_exporter": "python",
   "pygments_lexer": "ipython3",
   "version": "3.10.4"
  }
 },
 "nbformat": 4,
 "nbformat_minor": 5
}
